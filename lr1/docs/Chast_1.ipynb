{
  "nbformat": 4,
  "nbformat_minor": 0,
  "metadata": {
    "colab": {
      "provenance": []
    },
    "kernelspec": {
      "name": "python3",
      "display_name": "Python 3"
    },
    "language_info": {
      "name": "python"
    }
  },
  "cells": [
    {
      "cell_type": "code",
      "execution_count": 61,
      "metadata": {
        "id": "6J9u4XMFZI10"
      },
      "outputs": [],
      "source": [
        "import tensorflow as tf\n",
        "import numpy as np\n",
        "from tensorflow import keras"
      ]
    },
    {
      "cell_type": "code",
      "source": [
        "model = tf.keras.Sequential([keras.layers.Dense(units=1, input_shape=[1])])\n",
        "model.compile(optimizer='sgd', loss='mean_squared_error')"
      ],
      "metadata": {
        "id": "ubSyzUkgZekB"
      },
      "execution_count": 62,
      "outputs": []
    },
    {
      "cell_type": "code",
      "source": [
        "xs = np.array([-1.0, 0.0, 1.0, 2.0, 3.0, 4.0], dtype=float)\n",
        "ys = np.array([-2.0, 1.0, 4.0, 7.0, 10.0, 13.0], dtype=float)"
      ],
      "metadata": {
        "id": "cKon9QLkZtOx"
      },
      "execution_count": 63,
      "outputs": []
    },
    {
      "cell_type": "code",
      "source": [
        "class GetWeights(tf.keras.callbacks.Callback):\n",
        "    # Keras callback which collects values of weights and biases at each epoch\n",
        "    def __init__(self):\n",
        "        super(GetWeights, self).__init__()\n",
        "        self.weight_dict = {}\n",
        "\n",
        "    def on_epoch_end(self, epoch, logs=None):\n",
        "        # this function runs at the end of each epoch\n",
        "\n",
        "        # loop over each layer and get weights and biases\n",
        "        for layer_i in range(len(self.model.layers)):\n",
        "            w = self.model.layers[layer_i].get_weights()[0]\n",
        "            b = self.model.layers[layer_i].get_weights()[1]\n",
        "            print('Layer %s has weights of shape %s and biases of shape %s' %(\n",
        "                layer_i, np.shape(w), np.shape(b)))\n",
        "            print('солой %s коф. %s and смещение %s' %(\n",
        "                layer_i, w, b))\n",
        "\n",
        "            # save all weights and biases inside a dictionary\n",
        "            if epoch == 0:\n",
        "                # create array to hold weights and biases\n",
        "                self.weight_dict['w_'+str(layer_i+1)] = w\n",
        "                self.weight_dict['b_'+str(layer_i+1)] = b\n",
        "            else:\n",
        "                # append new weights to previously-created weights array\n",
        "                self.weight_dict['w_'+str(layer_i+1)] = np.dstack(\n",
        "                    (self.weight_dict['w_'+str(layer_i+1)], w))\n",
        "                # append new weights to previously-created weights array\n",
        "                self.weight_dict['b_'+str(layer_i+1)] = np.dstack(\n",
        "                    (self.weight_dict['b_'+str(layer_i+1)], b))"
      ],
      "metadata": {
        "id": "1jfO3jVyfvtl"
      },
      "execution_count": 64,
      "outputs": []
    },
    {
      "cell_type": "code",
      "source": [
        "gw = GetWeights()"
      ],
      "metadata": {
        "id": "2Qx55-Kcffxn"
      },
      "execution_count": 65,
      "outputs": []
    },
    {
      "cell_type": "code",
      "source": [
        "model.fit(xs, ys, epochs=5, callbacks=[gw])"
      ],
      "metadata": {
        "colab": {
          "base_uri": "https://localhost:8080/"
        },
        "id": "aaGDSnZWZ630",
        "outputId": "577d3d9c-0361-461f-b270-ab6f6e213f07"
      },
      "execution_count": 66,
      "outputs": [
        {
          "output_type": "stream",
          "name": "stdout",
          "text": [
            "Epoch 1/5\n",
            "1/1 [==============================] - ETA: 0s - loss: 115.5521Layer 0 has weights of shape (1, 1) and biases of shape (1,)\n",
            "солой 0 коф. [[-0.9397839]] and смещение [0.15281805]\n",
            "1/1 [==============================] - 1s 501ms/step - loss: 115.5521\n",
            "Epoch 2/5\n",
            "1/1 [==============================] - ETA: 0s - loss: 90.9273Layer 0 has weights of shape (1, 1) and biases of shape (1,)\n",
            "солой 0 коф. [[-0.5072574]] and смещение [0.28795522]\n",
            "1/1 [==============================] - 0s 10ms/step - loss: 90.9273\n",
            "Epoch 3/5\n",
            "1/1 [==============================] - ETA: 0s - loss: 71.5534Layer 0 has weights of shape (1, 1) and biases of shape (1,)\n",
            "солой 0 коф. [[-0.12347946]] and смещение [0.40741384]\n",
            "1/1 [==============================] - 0s 12ms/step - loss: 71.5534\n",
            "Epoch 4/5\n",
            "1/1 [==============================] - ETA: 0s - loss: 56.3106Layer 0 has weights of shape (1, 1) and biases of shape (1,)\n",
            "солой 0 коф. [[0.21705768]] and смещение [0.51297]\n",
            "1/1 [==============================] - 0s 10ms/step - loss: 56.3106\n",
            "Epoch 5/5\n",
            "1/1 [==============================] - ETA: 0s - loss: 44.3180Layer 0 has weights of shape (1, 1) and biases of shape (1,)\n",
            "солой 0 коф. [[0.5192393]] and смещение [0.60619885]\n",
            "1/1 [==============================] - 0s 10ms/step - loss: 44.3180\n"
          ]
        },
        {
          "output_type": "execute_result",
          "data": {
            "text/plain": [
              "<keras.callbacks.History at 0x7ccd316bfd90>"
            ]
          },
          "metadata": {},
          "execution_count": 66
        }
      ]
    },
    {
      "cell_type": "code",
      "source": [
        "from keras.utils.vis_utils import plot_model\n",
        "plot_model(model, to_file='model_plot.png', show_shapes=True, show_layer_names=True)"
      ],
      "metadata": {
        "colab": {
          "base_uri": "https://localhost:8080/",
          "height": 201
        },
        "id": "lgOnh1gqawuX",
        "outputId": "51dd134c-d6c4-4440-a937-12513c0ca1f2"
      },
      "execution_count": 67,
      "outputs": [
        {
          "output_type": "execute_result",
          "data": {
            "image/png": "[encoded data removed]",
            "text/plain": [
              "<IPython.core.display.Image object>"
            ]
          },
          "metadata": {},
          "execution_count": 67
        }
      ]
    },
    {
      "cell_type": "code",
      "source": [
        "print(model.layers[0].get_weights())\n",
        "for key in gw.weight_dict:\n",
        "    print(str(key) + ' shape: %s' %str(np.shape(gw.weight_dict[key])))\n"
      ],
      "metadata": {
        "colab": {
          "base_uri": "https://localhost:8080/"
        },
        "id": "llgTy2vGcXEY",
        "outputId": "674d5258-651e-4e05-c6e6-76f809eba7c9"
      },
      "execution_count": 68,
      "outputs": [
        {
          "output_type": "stream",
          "name": "stdout",
          "text": [
            "[array([[0.5192393]], dtype=float32), array([0.60619885], dtype=float32)]\n",
            "w_1 shape: (1, 1, 5)\n",
            "b_1 shape: (1, 1, 5)\n"
          ]
        }
      ]
    },
    {
      "cell_type": "code",
      "source": [
        "print(model.predict([0.1]))"
      ],
      "metadata": {
        "colab": {
          "base_uri": "https://localhost:8080/"
        },
        "id": "4te1nZUqw43h",
        "outputId": "5622419d-5345-4470-dcb9-35b5144ad5ac"
      },
      "execution_count": 70,
      "outputs": [
        {
          "output_type": "stream",
          "name": "stdout",
          "text": [
            "1/1 [==============================] - 0s 65ms/step\n",
            "[[0.6581228]]\n"
          ]
        }
      ]
    }
  ]
}